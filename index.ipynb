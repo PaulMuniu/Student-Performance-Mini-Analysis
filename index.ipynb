{
 "cells": [
  {
   "cell_type": "markdown",
   "metadata": {},
   "source": [
    "# Task for the Data Analyst Candidates"
   ]
  },
  {
   "cell_type": "markdown",
   "metadata": {},
   "source": [
    "### 1. Data Cleaning and Preparation"
   ]
  },
  {
   "cell_type": "code",
   "execution_count": 1,
   "metadata": {},
   "outputs": [
    {
     "data": {
      "text/html": [
       "<div>\n",
       "<style scoped>\n",
       "    .dataframe tbody tr th:only-of-type {\n",
       "        vertical-align: middle;\n",
       "    }\n",
       "\n",
       "    .dataframe tbody tr th {\n",
       "        vertical-align: top;\n",
       "    }\n",
       "\n",
       "    .dataframe thead th {\n",
       "        text-align: right;\n",
       "    }\n",
       "</style>\n",
       "<table border=\"1\" class=\"dataframe\">\n",
       "  <thead>\n",
       "    <tr style=\"text-align: right;\">\n",
       "      <th></th>\n",
       "      <th>Student ID</th>\n",
       "      <th>Name</th>\n",
       "      <th>Gender</th>\n",
       "      <th>Age</th>\n",
       "      <th>Course</th>\n",
       "      <th>Department</th>\n",
       "      <th>Year of Study</th>\n",
       "      <th>GPA</th>\n",
       "      <th>Credits Earned</th>\n",
       "      <th>Attendance(%)</th>\n",
       "      <th>Scholarship</th>\n",
       "      <th>Exam Score(%)</th>\n",
       "      <th>Graduation Status</th>\n",
       "    </tr>\n",
       "  </thead>\n",
       "  <tbody>\n",
       "    <tr>\n",
       "      <th>0</th>\n",
       "      <td>S001</td>\n",
       "      <td>John Mwangi</td>\n",
       "      <td>Male</td>\n",
       "      <td>21</td>\n",
       "      <td>Computer Science</td>\n",
       "      <td>ICT</td>\n",
       "      <td>3rd</td>\n",
       "      <td>3.8</td>\n",
       "      <td>90</td>\n",
       "      <td>85</td>\n",
       "      <td>Yes</td>\n",
       "      <td>78</td>\n",
       "      <td>Pending</td>\n",
       "    </tr>\n",
       "    <tr>\n",
       "      <th>1</th>\n",
       "      <td>S002</td>\n",
       "      <td>Mary Achieng</td>\n",
       "      <td>Female</td>\n",
       "      <td>22</td>\n",
       "      <td>Business Management</td>\n",
       "      <td>Business</td>\n",
       "      <td>4th</td>\n",
       "      <td>3.5</td>\n",
       "      <td>120</td>\n",
       "      <td>90</td>\n",
       "      <td>No</td>\n",
       "      <td>82</td>\n",
       "      <td>Pending</td>\n",
       "    </tr>\n",
       "    <tr>\n",
       "      <th>2</th>\n",
       "      <td>S003</td>\n",
       "      <td>Kevin Otieno</td>\n",
       "      <td>Male</td>\n",
       "      <td>23</td>\n",
       "      <td>Data Science</td>\n",
       "      <td>ICT</td>\n",
       "      <td>4th</td>\n",
       "      <td>3.9</td>\n",
       "      <td>110</td>\n",
       "      <td>88</td>\n",
       "      <td>Yes</td>\n",
       "      <td>91</td>\n",
       "      <td>Pending</td>\n",
       "    </tr>\n",
       "    <tr>\n",
       "      <th>3</th>\n",
       "      <td>S004</td>\n",
       "      <td>Sarah Wanjiru</td>\n",
       "      <td>Female</td>\n",
       "      <td>20</td>\n",
       "      <td>Accounting</td>\n",
       "      <td>Finance</td>\n",
       "      <td>2nd</td>\n",
       "      <td>3.2</td>\n",
       "      <td>60</td>\n",
       "      <td>75</td>\n",
       "      <td>No</td>\n",
       "      <td>69</td>\n",
       "      <td>Pending</td>\n",
       "    </tr>\n",
       "    <tr>\n",
       "      <th>4</th>\n",
       "      <td>S005</td>\n",
       "      <td>Brian Kamau</td>\n",
       "      <td>Male</td>\n",
       "      <td>21</td>\n",
       "      <td>Software Engineering</td>\n",
       "      <td>ICT</td>\n",
       "      <td>3rd</td>\n",
       "      <td>2.9</td>\n",
       "      <td>80</td>\n",
       "      <td>70</td>\n",
       "      <td>No</td>\n",
       "      <td>65</td>\n",
       "      <td>Pending</td>\n",
       "    </tr>\n",
       "    <tr>\n",
       "      <th>5</th>\n",
       "      <td>S006</td>\n",
       "      <td>Lucy Mutua</td>\n",
       "      <td>Female</td>\n",
       "      <td>22</td>\n",
       "      <td>Human Resource</td>\n",
       "      <td>Business</td>\n",
       "      <td>4th</td>\n",
       "      <td>3.6</td>\n",
       "      <td>100</td>\n",
       "      <td>95</td>\n",
       "      <td>Yes</td>\n",
       "      <td>88</td>\n",
       "      <td>Pending</td>\n",
       "    </tr>\n",
       "    <tr>\n",
       "      <th>6</th>\n",
       "      <td>S007</td>\n",
       "      <td>James Ndungu</td>\n",
       "      <td>Male</td>\n",
       "      <td>20</td>\n",
       "      <td>Eletrical Engineering</td>\n",
       "      <td>Engineering</td>\n",
       "      <td>2nd</td>\n",
       "      <td>3.0</td>\n",
       "      <td>75</td>\n",
       "      <td>80</td>\n",
       "      <td>No</td>\n",
       "      <td>71</td>\n",
       "      <td>Pending</td>\n",
       "    </tr>\n",
       "    <tr>\n",
       "      <th>7</th>\n",
       "      <td>S008</td>\n",
       "      <td>Faith Kiprono</td>\n",
       "      <td>Female</td>\n",
       "      <td>23</td>\n",
       "      <td>Cybersecurity</td>\n",
       "      <td>ICT</td>\n",
       "      <td>4th</td>\n",
       "      <td>3.7</td>\n",
       "      <td>115</td>\n",
       "      <td>85</td>\n",
       "      <td>Yes</td>\n",
       "      <td>87</td>\n",
       "      <td>Pending</td>\n",
       "    </tr>\n",
       "    <tr>\n",
       "      <th>8</th>\n",
       "      <td>S009</td>\n",
       "      <td>Peter Ouma</td>\n",
       "      <td>Male</td>\n",
       "      <td>22</td>\n",
       "      <td>Finance</td>\n",
       "      <td>Finance</td>\n",
       "      <td>4th</td>\n",
       "      <td>3.1</td>\n",
       "      <td>98</td>\n",
       "      <td>76</td>\n",
       "      <td>No</td>\n",
       "      <td>73</td>\n",
       "      <td>Pending</td>\n",
       "    </tr>\n",
       "    <tr>\n",
       "      <th>9</th>\n",
       "      <td>S010</td>\n",
       "      <td>Cythia Muthoni</td>\n",
       "      <td>Female</td>\n",
       "      <td>21</td>\n",
       "      <td>Artificial Intelligence</td>\n",
       "      <td>ICT</td>\n",
       "      <td>3rd</td>\n",
       "      <td>3.4</td>\n",
       "      <td>85</td>\n",
       "      <td>88</td>\n",
       "      <td>Yes</td>\n",
       "      <td>80</td>\n",
       "      <td>Pending</td>\n",
       "    </tr>\n",
       "  </tbody>\n",
       "</table>\n",
       "</div>"
      ],
      "text/plain": [
       "  Student ID            Name  Gender  Age                   Course  \\\n",
       "0       S001     John Mwangi    Male   21         Computer Science   \n",
       "1       S002    Mary Achieng  Female   22      Business Management   \n",
       "2       S003    Kevin Otieno    Male   23             Data Science   \n",
       "3       S004   Sarah Wanjiru  Female   20               Accounting   \n",
       "4       S005     Brian Kamau    Male   21     Software Engineering   \n",
       "5       S006      Lucy Mutua  Female   22           Human Resource   \n",
       "6       S007    James Ndungu    Male   20    Eletrical Engineering   \n",
       "7       S008   Faith Kiprono  Female   23            Cybersecurity   \n",
       "8       S009      Peter Ouma    Male   22                  Finance   \n",
       "9       S010  Cythia Muthoni  Female   21  Artificial Intelligence   \n",
       "\n",
       "    Department Year of Study  GPA  Credits Earned  Attendance(%) Scholarship  \\\n",
       "0          ICT           3rd  3.8              90             85         Yes   \n",
       "1     Business           4th  3.5             120             90          No   \n",
       "2          ICT           4th  3.9             110             88         Yes   \n",
       "3      Finance           2nd  3.2              60             75          No   \n",
       "4          ICT           3rd  2.9              80             70          No   \n",
       "5     Business           4th  3.6             100             95         Yes   \n",
       "6  Engineering           2nd  3.0              75             80          No   \n",
       "7          ICT           4th  3.7             115             85         Yes   \n",
       "8      Finance           4th  3.1              98             76          No   \n",
       "9          ICT           3rd  3.4              85             88         Yes   \n",
       "\n",
       "   Exam Score(%) Graduation Status  \n",
       "0             78           Pending  \n",
       "1             82           Pending  \n",
       "2             91           Pending  \n",
       "3             69           Pending  \n",
       "4             65           Pending  \n",
       "5             88           Pending  \n",
       "6             71           Pending  \n",
       "7             87           Pending  \n",
       "8             73           Pending  \n",
       "9             80           Pending  "
      ]
     },
     "execution_count": 1,
     "metadata": {},
     "output_type": "execute_result"
    }
   ],
   "source": [
    "# Import Dataset\n",
    "import pandas as pd\n",
    "\n",
    "data = pd.read_csv(\"Student Performance Dataset.csv\")\n",
    "data"
   ]
  },
  {
   "cell_type": "code",
   "execution_count": 2,
   "metadata": {},
   "outputs": [
    {
     "data": {
      "text/plain": [
       "Student ID           0\n",
       "Name                 0\n",
       "Gender               0\n",
       "Age                  0\n",
       "Course               0\n",
       "Department           0\n",
       "Year of Study        0\n",
       "GPA                  0\n",
       "Credits Earned       0\n",
       "Attendance(%)        0\n",
       "Scholarship          0\n",
       "Exam Score(%)        0\n",
       "Graduation Status    0\n",
       "dtype: int64"
      ]
     },
     "execution_count": 2,
     "metadata": {},
     "output_type": "execute_result"
    }
   ],
   "source": [
    "# checking for missing values\n",
    "data.isnull().sum()"
   ]
  },
  {
   "cell_type": "markdown",
   "metadata": {},
   "source": [
    "- No Missing values found"
   ]
  },
  {
   "cell_type": "code",
   "execution_count": 3,
   "metadata": {},
   "outputs": [
    {
     "data": {
      "text/plain": [
       "0"
      ]
     },
     "execution_count": 3,
     "metadata": {},
     "output_type": "execute_result"
    }
   ],
   "source": [
    "# Checking for duplicates\n",
    "data.duplicated().sum()"
   ]
  },
  {
   "cell_type": "markdown",
   "metadata": {},
   "source": [
    "- No duplicates found"
   ]
  },
  {
   "cell_type": "code",
   "execution_count": 4,
   "metadata": {},
   "outputs": [
    {
     "data": {
      "text/plain": [
       "0    Pending\n",
       "1    Pending\n",
       "2    Pending\n",
       "3    Pending\n",
       "4    Pending\n",
       "5    Pending\n",
       "6    Pending\n",
       "7    Pending\n",
       "8    Pending\n",
       "9    Pending\n",
       "Name: Graduation Status, dtype: object"
      ]
     },
     "execution_count": 4,
     "metadata": {},
     "output_type": "execute_result"
    }
   ],
   "source": [
    "data['Graduation Status']"
   ]
  },
  {
   "cell_type": "markdown",
   "metadata": {},
   "source": [
    "### 2. Sorting and Filtering"
   ]
  },
  {
   "cell_type": "markdown",
   "metadata": {},
   "source": [
    "(a) Sort Students by GPA in descending Order"
   ]
  },
  {
   "cell_type": "code",
   "execution_count": 5,
   "metadata": {},
   "outputs": [
    {
     "data": {
      "text/html": [
       "<div>\n",
       "<style scoped>\n",
       "    .dataframe tbody tr th:only-of-type {\n",
       "        vertical-align: middle;\n",
       "    }\n",
       "\n",
       "    .dataframe tbody tr th {\n",
       "        vertical-align: top;\n",
       "    }\n",
       "\n",
       "    .dataframe thead th {\n",
       "        text-align: right;\n",
       "    }\n",
       "</style>\n",
       "<table border=\"1\" class=\"dataframe\">\n",
       "  <thead>\n",
       "    <tr style=\"text-align: right;\">\n",
       "      <th></th>\n",
       "      <th>GPA</th>\n",
       "    </tr>\n",
       "    <tr>\n",
       "      <th>Name</th>\n",
       "      <th></th>\n",
       "    </tr>\n",
       "  </thead>\n",
       "  <tbody>\n",
       "    <tr>\n",
       "      <th>Kevin Otieno</th>\n",
       "      <td>3.9</td>\n",
       "    </tr>\n",
       "    <tr>\n",
       "      <th>John Mwangi</th>\n",
       "      <td>3.8</td>\n",
       "    </tr>\n",
       "    <tr>\n",
       "      <th>Faith Kiprono</th>\n",
       "      <td>3.7</td>\n",
       "    </tr>\n",
       "    <tr>\n",
       "      <th>Lucy Mutua</th>\n",
       "      <td>3.6</td>\n",
       "    </tr>\n",
       "    <tr>\n",
       "      <th>Mary Achieng</th>\n",
       "      <td>3.5</td>\n",
       "    </tr>\n",
       "    <tr>\n",
       "      <th>Cythia Muthoni</th>\n",
       "      <td>3.4</td>\n",
       "    </tr>\n",
       "    <tr>\n",
       "      <th>Sarah Wanjiru</th>\n",
       "      <td>3.2</td>\n",
       "    </tr>\n",
       "    <tr>\n",
       "      <th>Peter Ouma</th>\n",
       "      <td>3.1</td>\n",
       "    </tr>\n",
       "    <tr>\n",
       "      <th>James Ndungu</th>\n",
       "      <td>3.0</td>\n",
       "    </tr>\n",
       "    <tr>\n",
       "      <th>Brian Kamau</th>\n",
       "      <td>2.9</td>\n",
       "    </tr>\n",
       "  </tbody>\n",
       "</table>\n",
       "</div>"
      ],
      "text/plain": [
       "                GPA\n",
       "Name               \n",
       "Kevin Otieno    3.9\n",
       "John Mwangi     3.8\n",
       "Faith Kiprono   3.7\n",
       "Lucy Mutua      3.6\n",
       "Mary Achieng    3.5\n",
       "Cythia Muthoni  3.4\n",
       "Sarah Wanjiru   3.2\n",
       "Peter Ouma      3.1\n",
       "James Ndungu    3.0\n",
       "Brian Kamau     2.9"
      ]
     },
     "execution_count": 5,
     "metadata": {},
     "output_type": "execute_result"
    }
   ],
   "source": [
    "# Grouping Students with their corresponding GPAs\n",
    "data.groupby('Name').agg({\"GPA\":\"sum\"}).sort_values('GPA', ascending=False)"
   ]
  },
  {
   "cell_type": "markdown",
   "metadata": {},
   "source": [
    "- Kevin Otieno has the best GPA score of `3.9`. Kudos Kevin!"
   ]
  },
  {
   "cell_type": "markdown",
   "metadata": {},
   "source": [
    "(b) 4th Year and GPA of > 3.5"
   ]
  },
  {
   "cell_type": "code",
   "execution_count": 6,
   "metadata": {},
   "outputs": [
    {
     "data": {
      "text/html": [
       "<div>\n",
       "<style scoped>\n",
       "    .dataframe tbody tr th:only-of-type {\n",
       "        vertical-align: middle;\n",
       "    }\n",
       "\n",
       "    .dataframe tbody tr th {\n",
       "        vertical-align: top;\n",
       "    }\n",
       "\n",
       "    .dataframe thead th {\n",
       "        text-align: right;\n",
       "    }\n",
       "</style>\n",
       "<table border=\"1\" class=\"dataframe\">\n",
       "  <thead>\n",
       "    <tr style=\"text-align: right;\">\n",
       "      <th></th>\n",
       "      <th>Student ID</th>\n",
       "      <th>Name</th>\n",
       "      <th>Gender</th>\n",
       "      <th>Age</th>\n",
       "      <th>Course</th>\n",
       "      <th>Department</th>\n",
       "      <th>Year of Study</th>\n",
       "      <th>GPA</th>\n",
       "      <th>Credits Earned</th>\n",
       "      <th>Attendance(%)</th>\n",
       "      <th>Scholarship</th>\n",
       "      <th>Exam Score(%)</th>\n",
       "      <th>Graduation Status</th>\n",
       "    </tr>\n",
       "  </thead>\n",
       "  <tbody>\n",
       "    <tr>\n",
       "      <th>2</th>\n",
       "      <td>S003</td>\n",
       "      <td>Kevin Otieno</td>\n",
       "      <td>Male</td>\n",
       "      <td>23</td>\n",
       "      <td>Data Science</td>\n",
       "      <td>ICT</td>\n",
       "      <td>4th</td>\n",
       "      <td>3.9</td>\n",
       "      <td>110</td>\n",
       "      <td>88</td>\n",
       "      <td>Yes</td>\n",
       "      <td>91</td>\n",
       "      <td>Pending</td>\n",
       "    </tr>\n",
       "    <tr>\n",
       "      <th>5</th>\n",
       "      <td>S006</td>\n",
       "      <td>Lucy Mutua</td>\n",
       "      <td>Female</td>\n",
       "      <td>22</td>\n",
       "      <td>Human Resource</td>\n",
       "      <td>Business</td>\n",
       "      <td>4th</td>\n",
       "      <td>3.6</td>\n",
       "      <td>100</td>\n",
       "      <td>95</td>\n",
       "      <td>Yes</td>\n",
       "      <td>88</td>\n",
       "      <td>Pending</td>\n",
       "    </tr>\n",
       "    <tr>\n",
       "      <th>7</th>\n",
       "      <td>S008</td>\n",
       "      <td>Faith Kiprono</td>\n",
       "      <td>Female</td>\n",
       "      <td>23</td>\n",
       "      <td>Cybersecurity</td>\n",
       "      <td>ICT</td>\n",
       "      <td>4th</td>\n",
       "      <td>3.7</td>\n",
       "      <td>115</td>\n",
       "      <td>85</td>\n",
       "      <td>Yes</td>\n",
       "      <td>87</td>\n",
       "      <td>Pending</td>\n",
       "    </tr>\n",
       "  </tbody>\n",
       "</table>\n",
       "</div>"
      ],
      "text/plain": [
       "  Student ID           Name  Gender  Age          Course Department  \\\n",
       "2       S003   Kevin Otieno    Male   23    Data Science        ICT   \n",
       "5       S006     Lucy Mutua  Female   22  Human Resource   Business   \n",
       "7       S008  Faith Kiprono  Female   23   Cybersecurity        ICT   \n",
       "\n",
       "  Year of Study  GPA  Credits Earned  Attendance(%) Scholarship  \\\n",
       "2           4th  3.9             110             88         Yes   \n",
       "5           4th  3.6             100             95         Yes   \n",
       "7           4th  3.7             115             85         Yes   \n",
       "\n",
       "   Exam Score(%) Graduation Status  \n",
       "2             91           Pending  \n",
       "5             88           Pending  \n",
       "7             87           Pending  "
      ]
     },
     "execution_count": 6,
     "metadata": {},
     "output_type": "execute_result"
    }
   ],
   "source": [
    "fourth_year_high_gpa = data[data['GPA'] > 3.5]\n",
    "fourth_year_high_gpa = fourth_year_high_gpa[fourth_year_high_gpa['Year of Study'] == '4th'] \n",
    "fourth_year_high_gpa "
   ]
  },
  {
   "cell_type": "code",
   "execution_count": 7,
   "metadata": {},
   "outputs": [
    {
     "name": "stdout",
     "output_type": "stream",
     "text": [
      "4th yr students with GPA > 3.5 include: ['Kevin Otieno', 'Lucy Mutua', 'Faith Kiprono']\n"
     ]
    }
   ],
   "source": [
    "print(f\"4th yr students with GPA > 3.5 include: {list(fourth_year_high_gpa['Name'])}\")"
   ]
  },
  {
   "cell_type": "markdown",
   "metadata": {},
   "source": [
    "(c) Attendance below 80% and GPA below 3.0"
   ]
  },
  {
   "cell_type": "code",
   "execution_count": 8,
   "metadata": {},
   "outputs": [
    {
     "data": {
      "text/html": [
       "<div>\n",
       "<style scoped>\n",
       "    .dataframe tbody tr th:only-of-type {\n",
       "        vertical-align: middle;\n",
       "    }\n",
       "\n",
       "    .dataframe tbody tr th {\n",
       "        vertical-align: top;\n",
       "    }\n",
       "\n",
       "    .dataframe thead th {\n",
       "        text-align: right;\n",
       "    }\n",
       "</style>\n",
       "<table border=\"1\" class=\"dataframe\">\n",
       "  <thead>\n",
       "    <tr style=\"text-align: right;\">\n",
       "      <th></th>\n",
       "      <th>Student ID</th>\n",
       "      <th>Name</th>\n",
       "      <th>Gender</th>\n",
       "      <th>Age</th>\n",
       "      <th>Course</th>\n",
       "      <th>Department</th>\n",
       "      <th>Year of Study</th>\n",
       "      <th>GPA</th>\n",
       "      <th>Credits Earned</th>\n",
       "      <th>Attendance(%)</th>\n",
       "      <th>Scholarship</th>\n",
       "      <th>Exam Score(%)</th>\n",
       "      <th>Graduation Status</th>\n",
       "    </tr>\n",
       "  </thead>\n",
       "  <tbody>\n",
       "    <tr>\n",
       "      <th>4</th>\n",
       "      <td>S005</td>\n",
       "      <td>Brian Kamau</td>\n",
       "      <td>Male</td>\n",
       "      <td>21</td>\n",
       "      <td>Software Engineering</td>\n",
       "      <td>ICT</td>\n",
       "      <td>3rd</td>\n",
       "      <td>2.9</td>\n",
       "      <td>80</td>\n",
       "      <td>70</td>\n",
       "      <td>No</td>\n",
       "      <td>65</td>\n",
       "      <td>Pending</td>\n",
       "    </tr>\n",
       "  </tbody>\n",
       "</table>\n",
       "</div>"
      ],
      "text/plain": [
       "  Student ID         Name Gender  Age                Course Department  \\\n",
       "4       S005  Brian Kamau   Male   21  Software Engineering        ICT   \n",
       "\n",
       "  Year of Study  GPA  Credits Earned  Attendance(%) Scholarship  \\\n",
       "4           3rd  2.9              80             70          No   \n",
       "\n",
       "   Exam Score(%) Graduation Status  \n",
       "4             65           Pending  "
      ]
     },
     "execution_count": 8,
     "metadata": {},
     "output_type": "execute_result"
    }
   ],
   "source": [
    "below_80att_3gpa = data[data['Attendance(%)'] < 80]\n",
    "below_80att_3gpa_name = below_80att_3gpa[below_80att_3gpa['GPA'] < 3.0 ]\n",
    "below_80att_3gpa_name"
   ]
  },
  {
   "cell_type": "code",
   "execution_count": 9,
   "metadata": {},
   "outputs": [
    {
     "name": "stdout",
     "output_type": "stream",
     "text": [
      "Student with Attendance below 80% and GPA below 3: 4    Brian Kamau\n",
      "Name: Name, dtype: object\n"
     ]
    }
   ],
   "source": [
    "print(f\"Student with Attendance below 80% and GPA below 3: {below_80att_3gpa_name['Name']}\")"
   ]
  },
  {
   "cell_type": "markdown",
   "metadata": {},
   "source": [
    "### 3. Statistical Analysis"
   ]
  },
  {
   "cell_type": "markdown",
   "metadata": {},
   "source": [
    "(a) Average GPA of all students"
   ]
  },
  {
   "cell_type": "code",
   "execution_count": 10,
   "metadata": {},
   "outputs": [
    {
     "name": "stdout",
     "output_type": "stream",
     "text": [
      "AVERAGE GPA = 3.41\n"
     ]
    }
   ],
   "source": [
    "import numpy as np\n",
    "GPA_Mean = np.mean(data['GPA'])\n",
    "print(f\"AVERAGE GPA = {GPA_Mean}\")"
   ]
  },
  {
   "cell_type": "markdown",
   "metadata": {},
   "source": [
    "(b) Department with the highest average GPA"
   ]
  },
  {
   "cell_type": "code",
   "execution_count": 11,
   "metadata": {},
   "outputs": [
    {
     "data": {
      "text/html": [
       "<div>\n",
       "<style scoped>\n",
       "    .dataframe tbody tr th:only-of-type {\n",
       "        vertical-align: middle;\n",
       "    }\n",
       "\n",
       "    .dataframe tbody tr th {\n",
       "        vertical-align: top;\n",
       "    }\n",
       "\n",
       "    .dataframe thead th {\n",
       "        text-align: right;\n",
       "    }\n",
       "</style>\n",
       "<table border=\"1\" class=\"dataframe\">\n",
       "  <thead>\n",
       "    <tr style=\"text-align: right;\">\n",
       "      <th></th>\n",
       "      <th>GPA</th>\n",
       "    </tr>\n",
       "    <tr>\n",
       "      <th>Department</th>\n",
       "      <th></th>\n",
       "    </tr>\n",
       "  </thead>\n",
       "  <tbody>\n",
       "    <tr>\n",
       "      <th>Business</th>\n",
       "      <td>3.55</td>\n",
       "    </tr>\n",
       "    <tr>\n",
       "      <th>Engineering</th>\n",
       "      <td>3.00</td>\n",
       "    </tr>\n",
       "    <tr>\n",
       "      <th>Finance</th>\n",
       "      <td>3.15</td>\n",
       "    </tr>\n",
       "    <tr>\n",
       "      <th>ICT</th>\n",
       "      <td>3.54</td>\n",
       "    </tr>\n",
       "  </tbody>\n",
       "</table>\n",
       "</div>"
      ],
      "text/plain": [
       "              GPA\n",
       "Department       \n",
       "Business     3.55\n",
       "Engineering  3.00\n",
       "Finance      3.15\n",
       "ICT          3.54"
      ]
     },
     "execution_count": 11,
     "metadata": {},
     "output_type": "execute_result"
    }
   ],
   "source": [
    "dep_high_GPA = data.groupby('Department').agg({\"GPA\":\"mean\"})\n",
    "dep_high_GPA\n"
   ]
  },
  {
   "cell_type": "code",
   "execution_count": 12,
   "metadata": {},
   "outputs": [
    {
     "data": {
      "text/html": [
       "<div>\n",
       "<style scoped>\n",
       "    .dataframe tbody tr th:only-of-type {\n",
       "        vertical-align: middle;\n",
       "    }\n",
       "\n",
       "    .dataframe tbody tr th {\n",
       "        vertical-align: top;\n",
       "    }\n",
       "\n",
       "    .dataframe thead th {\n",
       "        text-align: right;\n",
       "    }\n",
       "</style>\n",
       "<table border=\"1\" class=\"dataframe\">\n",
       "  <thead>\n",
       "    <tr style=\"text-align: right;\">\n",
       "      <th></th>\n",
       "      <th>GPA</th>\n",
       "    </tr>\n",
       "    <tr>\n",
       "      <th>Department</th>\n",
       "      <th></th>\n",
       "    </tr>\n",
       "  </thead>\n",
       "  <tbody>\n",
       "    <tr>\n",
       "      <th>Business</th>\n",
       "      <td>3.55</td>\n",
       "    </tr>\n",
       "    <tr>\n",
       "      <th>ICT</th>\n",
       "      <td>3.54</td>\n",
       "    </tr>\n",
       "    <tr>\n",
       "      <th>Finance</th>\n",
       "      <td>3.15</td>\n",
       "    </tr>\n",
       "    <tr>\n",
       "      <th>Engineering</th>\n",
       "      <td>3.00</td>\n",
       "    </tr>\n",
       "  </tbody>\n",
       "</table>\n",
       "</div>"
      ],
      "text/plain": [
       "              GPA\n",
       "Department       \n",
       "Business     3.55\n",
       "ICT          3.54\n",
       "Finance      3.15\n",
       "Engineering  3.00"
      ]
     },
     "execution_count": 12,
     "metadata": {},
     "output_type": "execute_result"
    }
   ],
   "source": [
    "dep_high_GPA.sort_values('GPA', ascending=False)"
   ]
  },
  {
   "cell_type": "markdown",
   "metadata": {},
   "source": [
    "- From the above analysis, the `Business Department` has the highest average GPA with a splendid mean of `3.55`. Unfortunately, the Engineering department is lagging behind with a mean of 3.00"
   ]
  },
  {
   "cell_type": "markdown",
   "metadata": {},
   "source": [
    "(c) Scholarship Vs non-scholarship Students"
   ]
  },
  {
   "cell_type": "code",
   "execution_count": 13,
   "metadata": {},
   "outputs": [
    {
     "data": {
      "text/plain": [
       "Scholarship\n",
       "Yes    5\n",
       "No     5\n",
       "Name: count, dtype: int64"
      ]
     },
     "execution_count": 13,
     "metadata": {},
     "output_type": "execute_result"
    }
   ],
   "source": [
    "data['Scholarship'].value_counts()"
   ]
  },
  {
   "cell_type": "markdown",
   "metadata": {},
   "source": [
    "- Five students have Scholarships and the remainder five have no Scholarship Award"
   ]
  },
  {
   "cell_type": "markdown",
   "metadata": {},
   "source": [
    "### 4. Predictive Insights "
   ]
  },
  {
   "cell_type": "markdown",
   "metadata": {},
   "source": [
    "(a) GPA > 3.7 AND Attendance > 8.5"
   ]
  },
  {
   "cell_type": "code",
   "execution_count": 14,
   "metadata": {},
   "outputs": [
    {
     "data": {
      "text/html": [
       "<div>\n",
       "<style scoped>\n",
       "    .dataframe tbody tr th:only-of-type {\n",
       "        vertical-align: middle;\n",
       "    }\n",
       "\n",
       "    .dataframe tbody tr th {\n",
       "        vertical-align: top;\n",
       "    }\n",
       "\n",
       "    .dataframe thead th {\n",
       "        text-align: right;\n",
       "    }\n",
       "</style>\n",
       "<table border=\"1\" class=\"dataframe\">\n",
       "  <thead>\n",
       "    <tr style=\"text-align: right;\">\n",
       "      <th></th>\n",
       "      <th>Student ID</th>\n",
       "      <th>Name</th>\n",
       "      <th>Gender</th>\n",
       "      <th>Age</th>\n",
       "      <th>Course</th>\n",
       "      <th>Department</th>\n",
       "      <th>Year of Study</th>\n",
       "      <th>GPA</th>\n",
       "      <th>Credits Earned</th>\n",
       "      <th>Attendance(%)</th>\n",
       "      <th>Scholarship</th>\n",
       "      <th>Exam Score(%)</th>\n",
       "      <th>Graduation Status</th>\n",
       "    </tr>\n",
       "  </thead>\n",
       "  <tbody>\n",
       "    <tr>\n",
       "      <th>2</th>\n",
       "      <td>S003</td>\n",
       "      <td>Kevin Otieno</td>\n",
       "      <td>Male</td>\n",
       "      <td>23</td>\n",
       "      <td>Data Science</td>\n",
       "      <td>ICT</td>\n",
       "      <td>4th</td>\n",
       "      <td>3.9</td>\n",
       "      <td>110</td>\n",
       "      <td>88</td>\n",
       "      <td>Yes</td>\n",
       "      <td>91</td>\n",
       "      <td>Pending</td>\n",
       "    </tr>\n",
       "  </tbody>\n",
       "</table>\n",
       "</div>"
      ],
      "text/plain": [
       "  Student ID          Name Gender  Age        Course Department Year of Study  \\\n",
       "2       S003  Kevin Otieno   Male   23  Data Science        ICT           4th   \n",
       "\n",
       "   GPA  Credits Earned  Attendance(%) Scholarship  Exam Score(%)  \\\n",
       "2  3.9             110             88         Yes             91   \n",
       "\n",
       "  Graduation Status  \n",
       "2           Pending  "
      ]
     },
     "execution_count": 14,
     "metadata": {},
     "output_type": "execute_result"
    }
   ],
   "source": [
    "excellent_student = data[data['GPA'] > 3.7]\n",
    "excellent_student_name = excellent_student[excellent_student['Attendance(%)'] > 85]\n",
    "excellent_student_name"
   ]
  },
  {
   "cell_type": "code",
   "execution_count": 15,
   "metadata": {},
   "outputs": [
    {
     "name": "stdout",
     "output_type": "stream",
     "text": [
      "Most likely to graduate with honors is: 2    Kevin Otieno\n",
      "Name: Name, dtype: object\n"
     ]
    }
   ],
   "source": [
    "print(f\"Most likely to graduate with honors is: {excellent_student_name['Name']}\")"
   ]
  },
  {
   "cell_type": "markdown",
   "metadata": {},
   "source": [
    "(b) Performing Course"
   ]
  },
  {
   "cell_type": "code",
   "execution_count": 16,
   "metadata": {},
   "outputs": [
    {
     "data": {
      "text/html": [
       "<div>\n",
       "<style scoped>\n",
       "    .dataframe tbody tr th:only-of-type {\n",
       "        vertical-align: middle;\n",
       "    }\n",
       "\n",
       "    .dataframe tbody tr th {\n",
       "        vertical-align: top;\n",
       "    }\n",
       "\n",
       "    .dataframe thead th {\n",
       "        text-align: right;\n",
       "    }\n",
       "</style>\n",
       "<table border=\"1\" class=\"dataframe\">\n",
       "  <thead>\n",
       "    <tr style=\"text-align: right;\">\n",
       "      <th></th>\n",
       "      <th>Student ID</th>\n",
       "      <th>Name</th>\n",
       "      <th>Gender</th>\n",
       "      <th>Age</th>\n",
       "      <th>Course</th>\n",
       "      <th>Department</th>\n",
       "      <th>Year of Study</th>\n",
       "      <th>GPA</th>\n",
       "      <th>Credits Earned</th>\n",
       "      <th>Attendance(%)</th>\n",
       "      <th>Scholarship</th>\n",
       "      <th>Exam Score(%)</th>\n",
       "      <th>Graduation Status</th>\n",
       "    </tr>\n",
       "  </thead>\n",
       "  <tbody>\n",
       "    <tr>\n",
       "      <th>0</th>\n",
       "      <td>S001</td>\n",
       "      <td>John Mwangi</td>\n",
       "      <td>Male</td>\n",
       "      <td>21</td>\n",
       "      <td>Computer Science</td>\n",
       "      <td>ICT</td>\n",
       "      <td>3rd</td>\n",
       "      <td>3.8</td>\n",
       "      <td>90</td>\n",
       "      <td>85</td>\n",
       "      <td>Yes</td>\n",
       "      <td>78</td>\n",
       "      <td>Pending</td>\n",
       "    </tr>\n",
       "    <tr>\n",
       "      <th>2</th>\n",
       "      <td>S003</td>\n",
       "      <td>Kevin Otieno</td>\n",
       "      <td>Male</td>\n",
       "      <td>23</td>\n",
       "      <td>Data Science</td>\n",
       "      <td>ICT</td>\n",
       "      <td>4th</td>\n",
       "      <td>3.9</td>\n",
       "      <td>110</td>\n",
       "      <td>88</td>\n",
       "      <td>Yes</td>\n",
       "      <td>91</td>\n",
       "      <td>Pending</td>\n",
       "    </tr>\n",
       "    <tr>\n",
       "      <th>5</th>\n",
       "      <td>S006</td>\n",
       "      <td>Lucy Mutua</td>\n",
       "      <td>Female</td>\n",
       "      <td>22</td>\n",
       "      <td>Human Resource</td>\n",
       "      <td>Business</td>\n",
       "      <td>4th</td>\n",
       "      <td>3.6</td>\n",
       "      <td>100</td>\n",
       "      <td>95</td>\n",
       "      <td>Yes</td>\n",
       "      <td>88</td>\n",
       "      <td>Pending</td>\n",
       "    </tr>\n",
       "    <tr>\n",
       "      <th>7</th>\n",
       "      <td>S008</td>\n",
       "      <td>Faith Kiprono</td>\n",
       "      <td>Female</td>\n",
       "      <td>23</td>\n",
       "      <td>Cybersecurity</td>\n",
       "      <td>ICT</td>\n",
       "      <td>4th</td>\n",
       "      <td>3.7</td>\n",
       "      <td>115</td>\n",
       "      <td>85</td>\n",
       "      <td>Yes</td>\n",
       "      <td>87</td>\n",
       "      <td>Pending</td>\n",
       "    </tr>\n",
       "  </tbody>\n",
       "</table>\n",
       "</div>"
      ],
      "text/plain": [
       "  Student ID           Name  Gender  Age            Course Department  \\\n",
       "0       S001    John Mwangi    Male   21  Computer Science        ICT   \n",
       "2       S003   Kevin Otieno    Male   23      Data Science        ICT   \n",
       "5       S006     Lucy Mutua  Female   22    Human Resource   Business   \n",
       "7       S008  Faith Kiprono  Female   23     Cybersecurity        ICT   \n",
       "\n",
       "  Year of Study  GPA  Credits Earned  Attendance(%) Scholarship  \\\n",
       "0           3rd  3.8              90             85         Yes   \n",
       "2           4th  3.9             110             88         Yes   \n",
       "5           4th  3.6             100             95         Yes   \n",
       "7           4th  3.7             115             85         Yes   \n",
       "\n",
       "   Exam Score(%) Graduation Status  \n",
       "0             78           Pending  \n",
       "2             91           Pending  \n",
       "5             88           Pending  \n",
       "7             87           Pending  "
      ]
     },
     "execution_count": 16,
     "metadata": {},
     "output_type": "execute_result"
    }
   ],
   "source": [
    "performing_course = data[data['GPA'] > 3.5]\n",
    "performing_course"
   ]
  },
  {
   "cell_type": "code",
   "execution_count": 17,
   "metadata": {},
   "outputs": [
    {
     "name": "stdout",
     "output_type": "stream",
     "text": [
      "The Course list Include the following: ['Computer Science', 'Data Science', 'Human Resource', 'Cybersecurity']\n"
     ]
    }
   ],
   "source": [
    "print(f\"The Course list Include the following: {list(performing_course['Course'])}\")"
   ]
  },
  {
   "cell_type": "markdown",
   "metadata": {},
   "source": [
    "(c) Visual reprentation to show the distribution of GPAs Across different Departments."
   ]
  },
  {
   "cell_type": "code",
   "execution_count": 18,
   "metadata": {},
   "outputs": [
    {
     "data": {
      "image/png": "[encoded data removed]",
      "text/plain": [
       "<Figure size 1000x700 with 1 Axes>"
      ]
     },
     "metadata": {},
     "output_type": "display_data"
    }
   ],
   "source": [
    "import seaborn as sns\n",
    "import matplotlib.pyplot as plt\n",
    "\n",
    "plt.figure(figsize=(10,7)) \n",
    "sns.barplot(data = data, x='Department', y='GPA', ) \n",
    "plt.title('Distribution of GPAs across different departments.', weight = 'bold') \n",
    "plt.xlabel('Department') \n",
    "plt.ylabel('GPA') \n",
    "plt.show();"
   ]
  },
  {
   "cell_type": "markdown",
   "metadata": {},
   "source": [
    "(d) Correlation between exam scores and GPA"
   ]
  },
  {
   "cell_type": "code",
   "execution_count": 19,
   "metadata": {},
   "outputs": [
    {
     "name": "stdout",
     "output_type": "stream",
     "text": [
      "Correlation coefficient between Exam scores and GPA = 0.88\n"
     ]
    },
    {
     "data": {
      "image/png": "[encoded data removed]",
      "text/plain": [
       "<Figure size 600x500 with 2 Axes>"
      ]
     },
     "metadata": {},
     "output_type": "display_data"
    }
   ],
   "source": [
    "# Calculate correlation coefficient\n",
    "correlation = data[['Exam Score(%)', 'GPA']].corr().iloc[0, 1]\n",
    "print(f\"Correlation coefficient between Exam scores and GPA = {correlation:.2f}\")\n",
    "\n",
    "# correlation matrix\n",
    "correlation_matrix = data[['Exam Score(%)', 'GPA']].corr()\n",
    "\n",
    "# Plot the heatmap\n",
    "plt.figure(figsize=(6, 5))\n",
    "sns.heatmap(correlation_matrix, annot=True, cmap='coolwarm', cbar=True)\n",
    "\n",
    "# Add title\n",
    "plt.title('Correlation between Exam scores and GPA')\n",
    "plt.show();"
   ]
  },
  {
   "cell_type": "markdown",
   "metadata": {},
   "source": [
    "- Definetly YES, students with high exam scores tend to have high GPAs. The Correlation coefficient value between Exam scores and GPA = 0.88\n",
    "  which closer to +1, hence a STRONG correlation!"
   ]
  }
 ],
 "metadata": {
  "kernelspec": {
   "display_name": "MuniuPaul",
   "language": "python",
   "name": "python3"
  },
  "language_info": {
   "codemirror_mode": {
    "name": "ipython",
    "version": 3
   },
   "file_extension": ".py",
   "mimetype": "text/x-python",
   "name": "python",
   "nbconvert_exporter": "python",
   "pygments_lexer": "ipython3",
   "version": "3.12.3"
  }
 },
 "nbformat": 4,
 "nbformat_minor": 2
}
